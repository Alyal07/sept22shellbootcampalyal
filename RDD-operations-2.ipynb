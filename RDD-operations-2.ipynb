{
 "cells": [
  {
   "cell_type": "code",
   "execution_count": 1,
   "id": "bb804c02",
   "metadata": {},
   "outputs": [],
   "source": [
    "\n",
    "from pyspark import SparkContext\n",
    "#importing sparkcontext"
   ]
  },
  {
   "cell_type": "code",
   "execution_count": 2,
   "id": "2aca511f",
   "metadata": {},
   "outputs": [],
   "source": [
    "import findspark\n",
    "findspark.init()"
   ]
  },
  {
   "cell_type": "code",
   "execution_count": 3,
   "id": "4cc63582",
   "metadata": {},
   "outputs": [
    {
     "name": "stderr",
     "output_type": "stream",
     "text": [
      "Setting default log level to \"WARN\".\n",
      "To adjust logging level use sc.setLogLevel(newLevel). For SparkR, use setLogLevel(newLevel).\n",
      "23/09/22 06:31:48 WARN NativeCodeLoader: Unable to load native-hadoop library for your platform... using builtin-java classes where applicable\n"
     ]
    }
   ],
   "source": [
    "#Create a SparkContext\n",
    "#1st arg --> where we want to run , 2nd arg --> Spark Application name\n",
    "sc = SparkContext(\"local\",\"SparkPractice\")"
   ]
  },
  {
   "cell_type": "code",
   "execution_count": 4,
   "id": "cbab4aba",
   "metadata": {},
   "outputs": [],
   "source": [
    "from pyspark.sql import SparkSession"
   ]
  },
  {
   "cell_type": "code",
   "execution_count": 5,
   "id": "a7362274",
   "metadata": {},
   "outputs": [],
   "source": [
    "from pyspark.sql.types import StructType , StructField , IntegerType ,StringType"
   ]
  },
  {
   "cell_type": "code",
   "execution_count": 6,
   "id": "42acef58",
   "metadata": {},
   "outputs": [],
   "source": [
    "spk = SparkSession.builder.appName(\"Alyal\").getOrCreate()"
   ]
  },
  {
   "cell_type": "code",
   "execution_count": null,
   "id": "6f349dca",
   "metadata": {},
   "outputs": [],
   "source": []
  }
 ],
 "metadata": {
  "kernelspec": {
   "display_name": "Python 3 (ipykernel)",
   "language": "python",
   "name": "python3"
  },
  "language_info": {
   "codemirror_mode": {
    "name": "ipython",
    "version": 3
   },
   "file_extension": ".py",
   "mimetype": "text/x-python",
   "name": "python",
   "nbconvert_exporter": "python",
   "pygments_lexer": "ipython3",
   "version": "3.11.4"
  }
 },
 "nbformat": 4,
 "nbformat_minor": 5
}
