{
 "cells": [
  {
   "cell_type": "code",
   "execution_count": 1,
   "id": "b09747c5",
   "metadata": {},
   "outputs": [],
   "source": [
    "\n",
    "from pyspark import SparkContext\n",
    "#importing sparkcontext"
   ]
  },
  {
   "cell_type": "code",
   "execution_count": 2,
   "id": "1e007eb4",
   "metadata": {},
   "outputs": [
    {
     "name": "stdout",
     "output_type": "stream",
     "text": [
      "Requirement already satisfied: findspark in /home/labuser/.local/lib/python3.8/site-packages (2.0.1)\r\n"
     ]
    }
   ],
   "source": [
    "!pip install findspark"
   ]
  },
  {
   "cell_type": "code",
   "execution_count": 3,
   "id": "3876c082",
   "metadata": {},
   "outputs": [],
   "source": [
    "import findspark\n",
    "findspark.init()"
   ]
  },
  {
   "cell_type": "code",
   "execution_count": 4,
   "id": "34c84ef4",
   "metadata": {},
   "outputs": [
    {
     "name": "stderr",
     "output_type": "stream",
     "text": [
      "Setting default log level to \"WARN\".\n",
      "To adjust logging level use sc.setLogLevel(newLevel). For SparkR, use setLogLevel(newLevel).\n",
      "23/09/22 08:18:42 WARN NativeCodeLoader: Unable to load native-hadoop library for your platform... using builtin-java classes where applicable\n"
     ]
    }
   ],
   "source": [
    "#Create a SparkContext\n",
    "#1st arg --> where we want to run , 2nd arg --> Spark Application name\n",
    "sc = SparkContext(\"local\",\"SparkPractice\")"
   ]
  },
  {
   "cell_type": "code",
   "execution_count": 5,
   "id": "46d17e0e",
   "metadata": {},
   "outputs": [],
   "source": [
    "data = [x+1 for x in range(5)]\n",
    "\n",
    "# paralleize helps to convert dataset to rdd\n",
    "# There can be two arguments for parallelize function i.e. one argument for dataset and another\n",
    "#one for no of partions\n",
    "rdd = sc.parallelize(data)"
   ]
  },
  {
   "cell_type": "code",
   "execution_count": 6,
   "id": "72c88054",
   "metadata": {},
   "outputs": [
    {
     "name": "stderr",
     "output_type": "stream",
     "text": [
      "\r",
      "[Stage 0:>                                                          (0 + 1) / 1]\r"
     ]
    },
    {
     "name": "stdout",
     "output_type": "stream",
     "text": [
      "[1, 2, 3, 4, 5]\n"
     ]
    },
    {
     "name": "stderr",
     "output_type": "stream",
     "text": [
      "\r",
      "                                                                                \r"
     ]
    }
   ],
   "source": [
    "result = rdd.collect()\n",
    "print(result)"
   ]
  },
  {
   "cell_type": "code",
   "execution_count": 7,
   "id": "783a508d",
   "metadata": {},
   "outputs": [
    {
     "name": "stdout",
     "output_type": "stream",
     "text": [
      "['a', 'b']\n"
     ]
    }
   ],
   "source": [
    "f = lambda x: print(x)\n",
    "f(['a','b'])"
   ]
  },
  {
   "cell_type": "code",
   "execution_count": 8,
   "id": "59b08632",
   "metadata": {},
   "outputs": [
    {
     "data": {
      "text/plain": [
       "['Alyal', 'Sagar', 'Brain', 'Mark']"
      ]
     },
     "execution_count": 8,
     "metadata": {},
     "output_type": "execute_result"
    }
   ],
   "source": [
    "names_rdd = sc.parallelize(['Alyal','Sagar','Brain','Mark'])\n",
    "names_rdd.collect()"
   ]
  },
  {
   "cell_type": "code",
   "execution_count": 9,
   "id": "08e50bc2",
   "metadata": {},
   "outputs": [],
   "source": [
    "num = sc.parallelize([x for x in range(7)],4)"
   ]
  },
  {
   "cell_type": "code",
   "execution_count": 10,
   "id": "211261b6",
   "metadata": {},
   "outputs": [
    {
     "data": {
      "text/plain": [
       "4"
      ]
     },
     "execution_count": 10,
     "metadata": {},
     "output_type": "execute_result"
    }
   ],
   "source": [
    "num.getNumPartitions()"
   ]
  },
  {
   "cell_type": "code",
   "execution_count": 11,
   "id": "9e18ca31",
   "metadata": {},
   "outputs": [
    {
     "data": {
      "text/plain": [
       "[('spark.master', 'local'),\n",
       " ('spark.app.submitTime', '1695370721316'),\n",
       " ('spark.app.id', 'local-1695370727534'),\n",
       " ('spark.executor.id', 'driver'),\n",
       " ('spark.app.startTime', '1695370722027'),\n",
       " ('spark.driver.extraJavaOptions',\n",
       "  '-Djava.net.preferIPv6Addresses=false -XX:+IgnoreUnrecognizedVMOptions --add-opens=java.base/java.lang=ALL-UNNAMED --add-opens=java.base/java.lang.invoke=ALL-UNNAMED --add-opens=java.base/java.lang.reflect=ALL-UNNAMED --add-opens=java.base/java.io=ALL-UNNAMED --add-opens=java.base/java.net=ALL-UNNAMED --add-opens=java.base/java.nio=ALL-UNNAMED --add-opens=java.base/java.util=ALL-UNNAMED --add-opens=java.base/java.util.concurrent=ALL-UNNAMED --add-opens=java.base/java.util.concurrent.atomic=ALL-UNNAMED --add-opens=java.base/sun.nio.ch=ALL-UNNAMED --add-opens=java.base/sun.nio.cs=ALL-UNNAMED --add-opens=java.base/sun.security.action=ALL-UNNAMED --add-opens=java.base/sun.util.calendar=ALL-UNNAMED --add-opens=java.security.jgss/sun.security.krb5=ALL-UNNAMED -Djdk.reflect.useDirectMethodHandle=false'),\n",
       " ('spark.rdd.compress', 'True'),\n",
       " ('spark.driver.port', '34153'),\n",
       " ('spark.driver.host', 'ip-172-31-2-24.ap-south-1.compute.internal'),\n",
       " ('spark.serializer.objectStreamReset', '100'),\n",
       " ('spark.submit.pyFiles', ''),\n",
       " ('spark.submit.deployMode', 'client'),\n",
       " ('spark.app.name', 'SparkPractice'),\n",
       " ('spark.ui.showConsoleProgress', 'true'),\n",
       " ('spark.executor.extraJavaOptions',\n",
       "  '-Djava.net.preferIPv6Addresses=false -XX:+IgnoreUnrecognizedVMOptions --add-opens=java.base/java.lang=ALL-UNNAMED --add-opens=java.base/java.lang.invoke=ALL-UNNAMED --add-opens=java.base/java.lang.reflect=ALL-UNNAMED --add-opens=java.base/java.io=ALL-UNNAMED --add-opens=java.base/java.net=ALL-UNNAMED --add-opens=java.base/java.nio=ALL-UNNAMED --add-opens=java.base/java.util=ALL-UNNAMED --add-opens=java.base/java.util.concurrent=ALL-UNNAMED --add-opens=java.base/java.util.concurrent.atomic=ALL-UNNAMED --add-opens=java.base/sun.nio.ch=ALL-UNNAMED --add-opens=java.base/sun.nio.cs=ALL-UNNAMED --add-opens=java.base/sun.security.action=ALL-UNNAMED --add-opens=java.base/sun.util.calendar=ALL-UNNAMED --add-opens=java.security.jgss/sun.security.krb5=ALL-UNNAMED -Djdk.reflect.useDirectMethodHandle=false')]"
      ]
     },
     "execution_count": 11,
     "metadata": {},
     "output_type": "execute_result"
    }
   ],
   "source": [
    "sc.getConf().getAll()"
   ]
  },
  {
   "cell_type": "code",
   "execution_count": 12,
   "id": "572be92b",
   "metadata": {},
   "outputs": [
    {
     "name": "stderr",
     "output_type": "stream",
     "text": [
      "                                                                                \r"
     ]
    },
    {
     "data": {
      "text/plain": [
       "defaultdict(int, {0: 1, 1: 1, 2: 1, 3: 1, 4: 1, 5: 1, 6: 1})"
      ]
     },
     "execution_count": 12,
     "metadata": {},
     "output_type": "execute_result"
    }
   ],
   "source": [
    "\n",
    "num.countByValue()"
   ]
  },
  {
   "cell_type": "code",
   "execution_count": 13,
   "id": "bd80c11b",
   "metadata": {},
   "outputs": [
    {
     "name": "stdout",
     "output_type": "stream",
     "text": [
      "Partition1:[0]\n",
      "Partition2:[1, 2]\n",
      "Partition3:[3, 4]\n",
      "Partition4:[5, 6]\n"
     ]
    }
   ],
   "source": [
    "partitioned_data = num.glom().collect()\n",
    "\n",
    "#Display the contents of each partitions\n",
    "for i,partition in enumerate(partitioned_data):\n",
    "    print(f\"Partition{i+1}:{partition}\")"
   ]
  },
  {
   "cell_type": "code",
   "execution_count": 14,
   "id": "fd35ec53",
   "metadata": {},
   "outputs": [
    {
     "name": "stderr",
     "output_type": "stream",
     "text": [
      "1\n",
      "2\n",
      "3\n",
      "4\n",
      "5\n"
     ]
    }
   ],
   "source": [
    "a = sc.parallelize([1,2,3,4,5]).foreach(lambda x:print(x))"
   ]
  },
  {
   "cell_type": "code",
   "execution_count": 15,
   "id": "9aa90d9b",
   "metadata": {},
   "outputs": [],
   "source": [
    "data = [('Alice',25),('Bob',30),('Charlie',35),('David',28),('Eve',22)]"
   ]
  },
  {
   "cell_type": "code",
   "execution_count": 16,
   "id": "4ca166d9",
   "metadata": {},
   "outputs": [],
   "source": [
    "from pyspark.sql import SparkSession"
   ]
  },
  {
   "cell_type": "code",
   "execution_count": 17,
   "id": "811ce20c",
   "metadata": {},
   "outputs": [],
   "source": [
    "from pyspark.sql.types import StructType , StructField , IntegerType ,StringType"
   ]
  },
  {
   "cell_type": "code",
   "execution_count": 18,
   "id": "778c77b4",
   "metadata": {},
   "outputs": [],
   "source": [
    "schema = StructType([\n",
    "    StructField(\"name\",StringType(),True),\n",
    "    StructField(\"age\",IntegerType(),True)\n",
    "])"
   ]
  },
  {
   "cell_type": "code",
   "execution_count": 19,
   "id": "93479e0e",
   "metadata": {},
   "outputs": [],
   "source": [
    "spk = SparkSession.builder.appName(\"Alyal\").getOrCreate()"
   ]
  },
  {
   "cell_type": "code",
   "execution_count": 20,
   "id": "50f41436",
   "metadata": {},
   "outputs": [],
   "source": [
    "rdd = spk.sparkContext.parallelize(data)"
   ]
  },
  {
   "cell_type": "code",
   "execution_count": 21,
   "id": "f0cebe9e",
   "metadata": {},
   "outputs": [
    {
     "data": {
      "text/plain": [
       "[('Alice', 25), ('Bob', 30), ('Charlie', 35), ('David', 28), ('Eve', 22)]"
      ]
     },
     "execution_count": 21,
     "metadata": {},
     "output_type": "execute_result"
    }
   ],
   "source": [
    "rdd.collect()"
   ]
  },
  {
   "cell_type": "code",
   "execution_count": 22,
   "id": "eba5e001",
   "metadata": {},
   "outputs": [],
   "source": [
    "df = spk.createDataFrame(rdd,schema)"
   ]
  },
  {
   "cell_type": "code",
   "execution_count": 23,
   "id": "8563d752",
   "metadata": {},
   "outputs": [
    {
     "name": "stdout",
     "output_type": "stream",
     "text": [
      "+-------+---+\n",
      "|   name|age|\n",
      "+-------+---+\n",
      "|  Alice| 25|\n",
      "|    Bob| 30|\n",
      "|Charlie| 35|\n",
      "|  David| 28|\n",
      "|    Eve| 22|\n",
      "+-------+---+\n",
      "\n"
     ]
    }
   ],
   "source": [
    "df.show()"
   ]
  },
  {
   "cell_type": "code",
   "execution_count": 24,
   "id": "313bc25f",
   "metadata": {},
   "outputs": [
    {
     "name": "stdout",
     "output_type": "stream",
     "text": [
      "+-------+---+\n",
      "|   name|age|\n",
      "+-------+---+\n",
      "|Charlie| 35|\n",
      "+-------+---+\n",
      "\n"
     ]
    }
   ],
   "source": [
    "df[df['age']>30].show()"
   ]
  },
  {
   "cell_type": "code",
   "execution_count": 25,
   "id": "a5c81278",
   "metadata": {},
   "outputs": [
    {
     "name": "stdout",
     "output_type": "stream",
     "text": [
      "+-------+---+\n",
      "|   name|age|\n",
      "+-------+---+\n",
      "|    Bob| 30|\n",
      "|Charlie| 35|\n",
      "+-------+---+\n",
      "\n"
     ]
    }
   ],
   "source": [
    "df.filter(df.age >= 30).show()"
   ]
  },
  {
   "cell_type": "code",
   "execution_count": 26,
   "id": "9752e94d",
   "metadata": {},
   "outputs": [],
   "source": [
    "df.createOrReplaceTempView('mytable') #Create a temporary view"
   ]
  },
  {
   "cell_type": "code",
   "execution_count": 27,
   "id": "f987af78",
   "metadata": {},
   "outputs": [],
   "source": [
    "result = spk.sql(\"SELECT * FROM mytable WHERE age>=30\")"
   ]
  },
  {
   "cell_type": "code",
   "execution_count": 28,
   "id": "f6f2b91d",
   "metadata": {},
   "outputs": [
    {
     "name": "stdout",
     "output_type": "stream",
     "text": [
      "+-------+---+\n",
      "|   name|age|\n",
      "+-------+---+\n",
      "|    Bob| 30|\n",
      "|Charlie| 35|\n",
      "+-------+---+\n",
      "\n"
     ]
    }
   ],
   "source": [
    "result.show()"
   ]
  },
  {
   "cell_type": "code",
   "execution_count": 29,
   "id": "e1878a47",
   "metadata": {},
   "outputs": [],
   "source": [
    "movie_df = spk.read.csv('movies.csv',header=True,inferSchema=True)"
   ]
  },
  {
   "cell_type": "code",
   "execution_count": 30,
   "id": "4ef3e1cf",
   "metadata": {},
   "outputs": [
    {
     "name": "stdout",
     "output_type": "stream",
     "text": [
      "+--------------------+---------+--------------------+----------------+-------------+-----------------+---------------+----+\n",
      "|                Film|    Genre|         Lead Studio|Audience score %|Profitability|Rotten Tomatoes %|Worldwide Gross|Year|\n",
      "+--------------------+---------+--------------------+----------------+-------------+-----------------+---------------+----+\n",
      "|Zack and Miri Mak...|  Romance|The Weinstein Com...|              70|  1.747541667|               64|        $41.94 |2008|\n",
      "|     Youth in Revolt|   Comedy|The Weinstein Com...|              52|         1.09|               68|        $19.62 |2010|\n",
      "|You Will Meet a T...|   Comedy|         Independent|              35|  1.211818182|               43|        $26.66 |2010|\n",
      "|        When in Rome|   Comedy|              Disney|              44|          0.0|               15|        $43.04 |2010|\n",
      "|What Happens in V...|   Comedy|                 Fox|              72|  6.267647029|               28|       $219.37 |2008|\n",
      "| Water For Elephants|    Drama|    20th Century Fox|              72|  3.081421053|               60|       $117.09 |2011|\n",
      "|              WALL-E|Animation|              Disney|              89|  2.896019067|               96|       $521.28 |2008|\n",
      "|            Waitress|  Romance|         Independent|              67|   11.0897415|               89|        $22.18 |2007|\n",
      "| Waiting For Forever|  Romance|         Independent|              53|        0.005|                6|         $0.03 |2011|\n",
      "|     Valentine's Day|   Comedy|        Warner Bros.|              54|  4.184038462|               17|       $217.57 |2010|\n",
      "|Tyler Perry's Why...|  Romance|         Independent|              47|    3.7241924|               46|        $55.86 |2007|\n",
      "|Twilight: Breakin...|  Romance|         Independent|              68|  6.383363636|               26|       $702.17 |2011|\n",
      "|            Twilight|  Romance|              Summit|              82|  10.18002703|               49|       $376.66 |2008|\n",
      "|      The Ugly Truth|   Comedy|         Independent|              68|  5.402631579|               14|       $205.30 |2009|\n",
      "|The Twilight Saga...|    Drama|              Summit|              78|      14.1964|               27|       $709.82 |2009|\n",
      "|The Time Traveler...|    Drama|           Paramount|              65|  2.598205128|               38|       $101.33 |2009|\n",
      "|        The Proposal|   Comedy|              Disney|              74|       7.8675|               43|       $314.70 |2009|\n",
      "|The Invention of ...|   Comedy|        Warner Bros.|              47|  1.751351351|               56|        $32.40 |2009|\n",
      "|  The Heartbreak Kid|   Comedy|           Paramount|              41|  2.129444167|               30|       $127.77 |2007|\n",
      "|         The Duchess|    Drama|           Paramount|              68|  3.207850222|               60|        $43.31 |2008|\n",
      "+--------------------+---------+--------------------+----------------+-------------+-----------------+---------------+----+\n",
      "only showing top 20 rows\n",
      "\n"
     ]
    }
   ],
   "source": [
    "movie_df.show()"
   ]
  },
  {
   "cell_type": "code",
   "execution_count": 31,
   "id": "f6c7398b",
   "metadata": {},
   "outputs": [],
   "source": [
    "movie_df.createOrReplaceTempView('mytable') #Create a temporary view"
   ]
  },
  {
   "cell_type": "code",
   "execution_count": 32,
   "id": "97cfb578",
   "metadata": {},
   "outputs": [
    {
     "data": {
      "text/plain": [
       "['Film',\n",
       " 'Genre',\n",
       " 'Lead Studio',\n",
       " 'Audience score %',\n",
       " 'Profitability',\n",
       " 'Rotten Tomatoes %',\n",
       " 'Worldwide Gross',\n",
       " 'Year']"
      ]
     },
     "execution_count": 32,
     "metadata": {},
     "output_type": "execute_result"
    }
   ],
   "source": [
    "movie_df.columns"
   ]
  },
  {
   "cell_type": "code",
   "execution_count": 33,
   "id": "951e19cd",
   "metadata": {},
   "outputs": [
    {
     "name": "stderr",
     "output_type": "stream",
     "text": [
      "23/09/22 08:19:14 WARN package: Truncated the string representation of a plan since it was too large. This behavior can be adjusted by setting 'spark.sql.debug.maxToStringFields'.\n",
      "[Stage 15:>                                                         (0 + 1) / 1]\r"
     ]
    },
    {
     "name": "stdout",
     "output_type": "stream",
     "text": [
      "+-------+--------------------+-------+----------------+-----------------+------------------+------------------+---------------+------------------+\n",
      "|summary|                Film|  Genre|     Lead Studio| Audience score %|     Profitability| Rotten Tomatoes %|Worldwide Gross|              Year|\n",
      "+-------+--------------------+-------+----------------+-----------------+------------------+------------------+---------------+------------------+\n",
      "|  count|                  77|     77|              77|               77|                77|                77|             77|                77|\n",
      "|   mean|                null|   null|            null|63.72727272727273|4.5994833979610386|46.701298701298704|           null| 2009.077922077922|\n",
      "| stddev|                null|   null|            null|13.65711339967137| 8.031990152409822| 26.09500100093026|           null|1.3549736234200407|\n",
      "|    min|(500) Days of Summer| Action|20th Century Fox|               35|               0.0|                 3|         $0.03 |              2007|\n",
      "|    25%|                null|   null|            null|               52|       1.751351351|                26|           null|              2008|\n",
      "|    50%|                null|   null|            null|               64|       2.642352941|                45|           null|              2009|\n",
      "|    75%|                null|   null|            null|               76|       5.103116833|                64|           null|              2010|\n",
      "|    max|Zack and Miri Mak...|romance|    Warner Bros.|               89|            66.934|                96|        $96.16 |              2011|\n",
      "+-------+--------------------+-------+----------------+-----------------+------------------+------------------+---------------+------------------+\n",
      "\n"
     ]
    },
    {
     "name": "stderr",
     "output_type": "stream",
     "text": [
      "\r",
      "                                                                                \r"
     ]
    }
   ],
   "source": [
    "movie_df.summary().show()"
   ]
  },
  {
   "cell_type": "code",
   "execution_count": 34,
   "id": "f3e3f566",
   "metadata": {},
   "outputs": [
    {
     "data": {
      "text/plain": [
       "[('Film', 'string'),\n",
       " ('Genre', 'string'),\n",
       " ('Lead Studio', 'string'),\n",
       " ('Audience score %', 'int'),\n",
       " ('Profitability', 'double'),\n",
       " ('Rotten Tomatoes %', 'int'),\n",
       " ('Worldwide Gross', 'string'),\n",
       " ('Year', 'int')]"
      ]
     },
     "execution_count": 34,
     "metadata": {},
     "output_type": "execute_result"
    }
   ],
   "source": [
    "movie_df.dtypes"
   ]
  },
  {
   "cell_type": "code",
   "execution_count": 35,
   "id": "554046ff",
   "metadata": {},
   "outputs": [
    {
     "name": "stdout",
     "output_type": "stream",
     "text": [
      "StructType([StructField('Film', StringType(), True), StructField('Genre', StringType(), True), StructField('Lead Studio', StringType(), True), StructField('Audience score %', IntegerType(), True), StructField('Profitability', DoubleType(), True), StructField('Rotten Tomatoes %', IntegerType(), True), StructField('Worldwide Gross', StringType(), True), StructField('Year', IntegerType(), True)])\n"
     ]
    }
   ],
   "source": [
    "print(movie_df.schema)"
   ]
  },
  {
   "cell_type": "code",
   "execution_count": 36,
   "id": "bedcc1f5",
   "metadata": {},
   "outputs": [
    {
     "name": "stdout",
     "output_type": "stream",
     "text": [
      "+--------------------+---------+\n",
      "|                Film|    Genre|\n",
      "+--------------------+---------+\n",
      "|Zack and Miri Mak...|  Romance|\n",
      "|     Youth in Revolt|   Comedy|\n",
      "|You Will Meet a T...|   Comedy|\n",
      "|        When in Rome|   Comedy|\n",
      "|What Happens in V...|   Comedy|\n",
      "| Water For Elephants|    Drama|\n",
      "|              WALL-E|Animation|\n",
      "| Waiting For Forever|  Romance|\n",
      "|     Valentine's Day|   Comedy|\n",
      "|Twilight: Breakin...|  Romance|\n",
      "|            Twilight|  Romance|\n",
      "|      The Ugly Truth|   Comedy|\n",
      "|The Twilight Saga...|    Drama|\n",
      "|The Time Traveler...|    Drama|\n",
      "|        The Proposal|   Comedy|\n",
      "|The Invention of ...|   Comedy|\n",
      "|         The Duchess|    Drama|\n",
      "|The Curious Case ...|  Fantasy|\n",
      "|    The Back-up Plan|   Comedy|\n",
      "|             Tangled|Animation|\n",
      "+--------------------+---------+\n",
      "only showing top 20 rows\n",
      "\n"
     ]
    }
   ],
   "source": [
    "result = spk.sql('SELECT Film,Genre FROM MYTABLE WHERE Year > 2007')\n",
    "result.show()"
   ]
  },
  {
   "cell_type": "code",
   "execution_count": 37,
   "id": "0b8411ae",
   "metadata": {},
   "outputs": [
    {
     "name": "stdout",
     "output_type": "stream",
     "text": [
      "+-------+----+-----+-----------------+------------------+\n",
      "|summary|Film|Genre| Audience score %| Rotten Tomatoes %|\n",
      "+-------+----+-----+-----------------+------------------+\n",
      "|  count|  77|   77|               77|                77|\n",
      "|   mean|null| null|63.72727272727273|46.701298701298704|\n",
      "| stddev|null| null|13.65711339967137| 26.09500100093026|\n",
      "+-------+----+-----+-----------------+------------------+\n",
      "\n"
     ]
    }
   ],
   "source": [
    "\n",
    "movie_df.select(\"Film\", \"Genre\",\"Audience score %\",\"Rotten Tomatoes %\").summary(\"count\",\"mean\",\"stddev\").show()"
   ]
  },
  {
   "cell_type": "code",
   "execution_count": 40,
   "id": "b195b426",
   "metadata": {},
   "outputs": [],
   "source": [
    "sc.stop()"
   ]
  },
  {
   "cell_type": "code",
   "execution_count": 51,
   "id": "ef2dfc27",
   "metadata": {},
   "outputs": [
    {
     "data": {
      "text/plain": [
       "[5, 5, 4, 3, 2, 9, 2]"
      ]
     },
     "execution_count": 51,
     "metadata": {},
     "output_type": "execute_result"
    }
   ],
   "source": [
    "from pyspark import SparkConf , SparkContext\n",
    "conf = SparkConf().setAppName('App1').setMaster('local')\n",
    "sc1 = SparkContext(conf=conf)\n",
    "num = sc1.parallelize([5,5,4,3,2,9,2])\n",
    "num.collect()"
   ]
  },
  {
   "cell_type": "code",
   "execution_count": 52,
   "id": "546200c9",
   "metadata": {},
   "outputs": [],
   "source": [
    "num2 = num.map(lambda x:x*2)"
   ]
  },
  {
   "cell_type": "code",
   "execution_count": 53,
   "id": "3ecb5a1f",
   "metadata": {},
   "outputs": [
    {
     "name": "stderr",
     "output_type": "stream",
     "text": [
      "                                                                                \r"
     ]
    },
    {
     "data": {
      "text/plain": [
       "[10, 10, 8, 6, 4, 18, 4]"
      ]
     },
     "execution_count": 53,
     "metadata": {},
     "output_type": "execute_result"
    }
   ],
   "source": [
    "num2.collect()"
   ]
  },
  {
   "cell_type": "code",
   "execution_count": 49,
   "id": "90e418aa",
   "metadata": {},
   "outputs": [
    {
     "data": {
      "text/plain": [
       "[10, 10, 8, 6, 4, 18, 4]"
      ]
     },
     "execution_count": 49,
     "metadata": {},
     "output_type": "execute_result"
    }
   ],
   "source": [
    "list(map(lambda x:x*2,[5,5,4,3,2,9,2]))"
   ]
  },
  {
   "cell_type": "code",
   "execution_count": 55,
   "id": "ef7dd125",
   "metadata": {},
   "outputs": [],
   "source": [
    "names = sc1.parallelize(['A','B','C','D'])"
   ]
  },
  {
   "cell_type": "code",
   "execution_count": 56,
   "id": "61c789e9",
   "metadata": {},
   "outputs": [
    {
     "data": {
      "text/plain": [
       "['Mr.A', 'Mr.B', 'Mr.C', 'Mr.D']"
      ]
     },
     "execution_count": 56,
     "metadata": {},
     "output_type": "execute_result"
    }
   ],
   "source": [
    "names_mr = names.map(lambda x:'Mr.'+x)\n",
    "names_mr.collect()"
   ]
  },
  {
   "cell_type": "code",
   "execution_count": 59,
   "id": "2cb56aa8",
   "metadata": {},
   "outputs": [
    {
     "data": {
      "text/plain": [
       "[1, 1, 2, 1, 2, 3, 4, 5, 6]"
      ]
     },
     "execution_count": 59,
     "metadata": {},
     "output_type": "execute_result"
    }
   ],
   "source": [
    "rdd = sc1.parallelize([2,3,7])\n",
    "rdd.flatMap(lambda x: range(1,x)).collect()"
   ]
  },
  {
   "cell_type": "code",
   "execution_count": 67,
   "id": "678486ab",
   "metadata": {},
   "outputs": [
    {
     "data": {
      "text/plain": [
       "[range(1, 2), range(1, 3), range(1, 7)]"
      ]
     },
     "execution_count": 67,
     "metadata": {},
     "output_type": "execute_result"
    }
   ],
   "source": [
    "rdd.map(lambda x: range(1,x)).collect()"
   ]
  },
  {
   "cell_type": "code",
   "execution_count": 65,
   "id": "418c98ce",
   "metadata": {},
   "outputs": [],
   "source": [
    "def generate_squares(number):\n",
    "    return [(number,number**2)]"
   ]
  },
  {
   "cell_type": "code",
   "execution_count": 66,
   "id": "5ec26114",
   "metadata": {},
   "outputs": [
    {
     "data": {
      "text/plain": [
       "[(1, 1), (2, 4), (3, 9), (4, 16), (5, 25)]"
      ]
     },
     "execution_count": 66,
     "metadata": {},
     "output_type": "execute_result"
    }
   ],
   "source": [
    "numbers = sc1.parallelize([1,2,3,4,5])\n",
    "squares_rdd = numbers.flatMap(generate_squares)\n",
    "squares_rdd.collect()"
   ]
  },
  {
   "cell_type": "code",
   "execution_count": 88,
   "id": "9a8ce66f",
   "metadata": {},
   "outputs": [
    {
     "data": {
      "text/plain": [
       "[(4, 16), (5, 25)]"
      ]
     },
     "execution_count": 88,
     "metadata": {},
     "output_type": "execute_result"
    }
   ],
   "source": [
    "squares_rdd.filter(lambda x:x if x[1]>10 else 0 ).collect()"
   ]
  },
  {
   "cell_type": "code",
   "execution_count": 99,
   "id": "d71ba30b",
   "metadata": {},
   "outputs": [],
   "source": [
    "even_result = sc1.parallelize([2,4,6,8,10])\n",
    "odd_result = sc1.parallelize([1,3,5,7,9])\n",
    "x= even_result.union(odd_result)"
   ]
  },
  {
   "cell_type": "code",
   "execution_count": 100,
   "id": "f14fac4e",
   "metadata": {},
   "outputs": [
    {
     "data": {
      "text/plain": [
       "[[2, 4, 6, 8, 10], [1, 3, 5, 7, 9]]"
      ]
     },
     "execution_count": 100,
     "metadata": {},
     "output_type": "execute_result"
    }
   ],
   "source": [
    "even_result.union(odd_result).glom().collect()"
   ]
  },
  {
   "cell_type": "code",
   "execution_count": 101,
   "id": "41717621",
   "metadata": {},
   "outputs": [
    {
     "data": {
      "text/plain": [
       "67"
      ]
     },
     "execution_count": 101,
     "metadata": {},
     "output_type": "execute_result"
    }
   ],
   "source": [
    "# The fold method is used to add values to \n",
    "x.fold(4,lambda a,b:a+b)"
   ]
  },
  {
   "cell_type": "code",
   "execution_count": null,
   "id": "f18b51b4",
   "metadata": {},
   "outputs": [],
   "source": []
  }
 ],
 "metadata": {
  "kernelspec": {
   "display_name": "Python 3 (ipykernel)",
   "language": "python",
   "name": "python3"
  },
  "language_info": {
   "codemirror_mode": {
    "name": "ipython",
    "version": 3
   },
   "file_extension": ".py",
   "mimetype": "text/x-python",
   "name": "python",
   "nbconvert_exporter": "python",
   "pygments_lexer": "ipython3",
   "version": "3.11.4"
  }
 },
 "nbformat": 4,
 "nbformat_minor": 5
}
